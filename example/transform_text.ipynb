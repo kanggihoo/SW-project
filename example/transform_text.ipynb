{
 "cells": [
  {
   "cell_type": "code",
   "execution_count": 1,
   "metadata": {},
   "outputs": [
    {
     "data": {
      "text/plain": [
       "True"
      ]
     },
     "execution_count": 1,
     "metadata": {},
     "output_type": "execute_result"
    }
   ],
   "source": [
    "from langchain.memory import ConversationBufferMemory\n",
    "from operator import itemgetter\n",
    "from langchain_core.runnables import RunnableLambda , RunnablePassthrough\n",
    "from langchain_core.prompts import MessagesPlaceholder , ChatPromptTemplate \n",
    "from langchain_openai import ChatOpenAI\n",
    "from dotenv import load_dotenv \n",
    "from langchain_core.documents import Document\n",
    "load_dotenv()\n",
    "\n"
   ]
  },
  {
   "cell_type": "code",
   "execution_count": 22,
   "metadata": {},
   "outputs": [],
   "source": [
    "from langchain_openai import ChatOpenAI\n",
    "from langchain_google_genai import ChatGoogleGenerativeAI\n",
    "from dotenv import load_dotenv\n",
    "from langchain_core.prompts import ChatPromptTemplate\n",
    "import os\n",
    "load_dotenv()\n",
    "\n",
    "llm = ChatGoogleGenerativeAI(\n",
    "    model = \"gemini-2.0-flash-001\",\n",
    "    temperature = 0\n",
    "    \n",
    ")\n",
    "\n",
    "prompt = ChatPromptTemplate.from_messages([\n",
    "    (\"system\",\"You are a helpful assistant. and simply answer the question. with short sentences\"),\n",
    "    (\"user\",\"{input}\")\n",
    "])\n",
    "\n",
    "chain = prompt | llm\n",
    "\n"
   ]
  },
  {
   "cell_type": "code",
   "execution_count": null,
   "metadata": {},
   "outputs": [],
   "source": [
    "from dotenv import load_dotenv\n",
    "from langchain_openai import ChatOpenAI\n",
    "from langchain_core.prompts import PromptTemplate \n",
    "from langchain_core.pydantic_v1 import BaseModel, Field , PydanticOutputParser\n",
    "\n",
    "load_dotenv()\n",
    "\n",
    "prompt = PromptTemplate.from_template(\n",
    "    \"You are a helpful assistant. Please answer the following question using 10 words: {question}\"\n",
    ")\n",
    "\n",
    "class ColorSize(BaseModel):\n",
    "    color: str = Field(description=\"color name\")\n",
    "    size: str = Field(description=\"size names\")\n",
    "\n",
    "llm = ChatOpenAI(\n",
    "    model_name=\"gpt-4.1-nano-2025-04-14\",\n",
    "    temperature=0,\n",
    ")\n",
    "parser = PydanticOutputParser(pydantic_object=ColorSize)\n",
    "\n",
    "chain = prompt | llm | parser\n",
    "\n"
   ]
  },
  {
   "cell_type": "code",
   "execution_count": 70,
   "metadata": {},
   "outputs": [],
   "source": [
    "from dotenv import load_dotenv\n",
    "from langchain_openai import ChatOpenAI\n",
    "from langchain_core.prompts import PromptTemplate \n",
    "from langchain_core.output_parsers import JsonOutputParser\n",
    "from pydantic import BaseModel, Field\n",
    "\n",
    "load_dotenv()\n",
    "prompt_template = \"\"\"당신은 의류 색상 표현을 표준화하는 전문가입니다.\n",
    "\n",
    "주어진 JSON 리스트 형태의 입력 데이터를 각 product_id 별로 순회하며, 각 product_id 내의 'colors' 리스트에 있는 색상 표현을 다음 규칙에 따라 표준화하여 변환해주세요.\n",
    "\n",
    "입력 데이터:\n",
    "{input}\n",
    "\n",
    "규칙:\n",
    "1. **색상명 추출 및 불필요 정보 제거:** 입력 문자열에서 순수한 색상명만 추출하고, 색상명이 아닌 불필요한 정보(코드, 숫자, 브랜드명, 제품명, 소재/스타일 정보, 기타 수식어 등)는 모두 제거합니다. 특히 다음 패턴에 유의하여 제거합니다:\n",
    "   - 대괄호 `[]` 안에 있는 내용 (예: '[17]DARK GRAY', '[기모] 블랙')\n",
    "   - 숫자 또는 코드 접두사 (예: '01블랙')\n",
    "   - 언더스코어 `_` 뒤에 붙은 정보 (예: '차콜_쭈리', '차콜_기모')\n",
    "   - 기타 색상명을 수식하는 불필요한 텍스트 (예: '쭈리', '기모' 등)\n",
    "\n",
    "2. **색상명 표준화 (영문 소문자):** 추출된 순수한 색상명을 영어 소문자로 변환합니다. 한글 색상명인 경우, 해당 영어 소문자 색상명으로 변환합니다.\n",
    "   - 예시 변환: '화이트' -> 'white', '블랙' -> 'black', '차콜' -> 'charcoal', '연그레이' -> 'light gray', '웜그레이' -> 'warm gray', '스톤' -> 'stone', '네이비' -> 'navy', '베이지' -> 'beige', 'INDIGO' -> 'indigo', 'DARK GRAY' -> 'dark gray', 'LIGHT BLUE' -> 'light blue'\n",
    "               'BE' -> 'beige', 'BR' -> 'brown', 'NA' -> 'navy'\n",
    "\n",
    "3. **줄임말 변환:** 색상 표현의 줄임말인 경우 풀어서 변환합니다. (예: 'Lt Gray' -> 'light gray' 등)\n",
    "\n",
    "4. **변환 불가 항목 처리:** 위 규칙을 적용하기 어렵거나, 어떤 색상인지 명확히 알 수 없는 경우에는 결과 리스트에 문자열 \"pass\"로 담아주세요.\n",
    "\n",
    "출력은 제공된 Pydantic 스키마에 맞는 JSON 배열 형식이어야 합니다. 입력의 각 객체는 출력의 해당 product_id 객체로 변환되어야 하며, 'colors' 리스트는 표준화된 'colors_transformed' 리스트가 되어야 합니다. 추가 설명 없이 JSON만 출력하세요.\n",
    "\"\"\"\n",
    "\n",
    "prompt = PromptTemplate.from_template(prompt_template)\n",
    "    \n",
    "\n",
    "class ColorInfoTransformed(BaseModel):\n",
    "    # 입력의 각 product_id에 대한 결과를 담을 모델\n",
    "    product_id : str = Field(..., description=\"product id\")\n",
    "    colors_transformed: list[str] = Field(... , description=\"list of standardized color names in lowercase english\")\n",
    "\n",
    "class ProductListTransformed(BaseModel):\n",
    "    # 전체 결과가 이 모델의 리스트가 되도록 정의 (optional, but can help guide LLM)\n",
    "    products: list[ColorInfoTransformed] = Field(description=\"list of products with standardized colors\")\n",
    "\n",
    "llm = ChatOpenAI(\n",
    "    model_name=\"gpt-4.1-nano-2025-04-14\",\n",
    "    temperature=0,\n",
    ")\n",
    "\n",
    "parser = JsonOutputParser(pydantic_object=ProductListTransformed)\n",
    "\n",
    "chain = prompt | llm  | parser\n",
    "\n"
   ]
  },
  {
   "cell_type": "code",
   "execution_count": 55,
   "metadata": {},
   "outputs": [],
   "source": [
    "import json\n",
    "with open(\"./musinsa_product_detail_info.json\", \"r\" , encoding=\"utf-8\") as f:\n",
    "    data = json.load(f)"
   ]
  },
  {
   "cell_type": "code",
   "execution_count": 73,
   "metadata": {},
   "outputs": [],
   "source": [
    "colors = []\n",
    "for d in data[:100]:\n",
    "    product_id = d[\"product_id\"]\n",
    "    if d.get(\"color_size_info\") != \"failed\" and len(d.get(\"color_size_info\")) > 1:\n",
    "        product_d = {\n",
    "            \"product_id\" : product_id,\n",
    "            \"colors\" : [c for c in d[\"color_size_info\"].keys()]\n",
    "        }\n",
    "        colors.append(product_d)"
   ]
  },
  {
   "cell_type": "code",
   "execution_count": 75,
   "metadata": {},
   "outputs": [],
   "source": [
    "result = chain.invoke({\"input\" : colors} , force_json=True)"
   ]
  },
  {
   "cell_type": "code",
   "execution_count": 79,
   "metadata": {},
   "outputs": [
    {
     "name": "stdout",
     "output_type": "stream",
     "text": [
      "4175458 ['화이트', '차콜', '블랙'] ['white', 'charcoal', 'black']\n",
      "4979827 ['LRAMCTR702P_화이트', 'LRAMCTR702P_블랙', 'LKTMCTR701M_화이트', 'LKTMCTR701M_라이트그레이', 'LKTMCTR701M_차콜', 'LKTMCTR701M_네이비', 'LKTMCTR701M_블랙', 'LKTMCTR702M_라이트그레이', 'LKTMCTR702M_네이비', 'LKTMCTR702M_차콜', 'LSBMCTR701M_화이트', 'LSBMCTR701M_블랙', 'LSBMCTR702M_화이트', 'LSBMCTR702M_블랙', 'LSBMCTR703M_화이트', 'LSBMCTR703M_블랙', 'LHTMCTR701M_화이트', 'LHTMCTR701M_블랙', 'LHTMCTR702M_화이트', 'LHTMCTR702M_블랙', 'LKTMCTR751M_화이트', 'LKTMCTR751M_블랙', 'LKTMCTR752M_화이트', 'LKTMCTR752M_블랙'] ['white', 'black', 'white', 'light gray', 'charcoal', 'navy', 'black', 'light gray', 'navy', 'charcoal', 'white', 'black', 'white', 'black', 'white', 'black', 'white', 'black', 'white', 'black', 'white', 'black', 'white', 'black']\n",
      "4748535 ['RED BEAN', 'ALMOND', 'SOBORO', 'NAVY', 'PISTACHIO'] ['red bean', 'almond', 'soboro', 'navy', 'pistachio']\n",
      "4984372 ['A.린넨 라이크 카라넥 반팔 니트_블랙', 'A.린넨 라이크 카라넥 반팔 니트_아이보리', 'A.린넨 라이크 카라넥 반팔 니트_베이지', 'A.린넨 라이크 카라넥 반팔 니트_그린', 'A.린넨 라이크 카라넥 반팔 니트_네이비', 'B.크루넥 케이블 반팔 니트_블랙', 'B.크루넥 케이블 반팔 니트_아이보리', 'B.크루넥 케이블 반팔 니트_베이지', 'B.크루넥 케이블 반팔 니트_그린', 'B.크루넥 케이블 반팔 니트_네이비', 'C.카라넥 케이블 반팔 니트_블랙', 'C.카라넥 케이블 반팔 니트_아이보리', 'C.카라넥 케이블 반팔 니트_베이지', 'C.카라넥 케이블 반팔 니트_그린', 'C.카라넥 케이블 반팔 니트_네이비'] ['black', 'ivory', 'beige', 'green', 'navy', 'black', 'ivory', 'beige', 'green', 'navy', 'black', 'ivory', 'beige', 'green', 'navy']\n",
      "4963859 ['A.린넨 라이크 카라넥 반팔 니트_블랙', 'A.린넨 라이크 카라넥 반팔 니트_아이보리', 'A.린넨 라이크 카라넥 반팔 니트_베이지', 'A.린넨 라이크 카라넥 반팔 니트_그린', 'A.린넨 라이크 카라넥 반팔 니트_네이비'] ['black', 'ivory', 'beige', 'green', 'navy']\n",
      "4030865 ['01소프트핑크', '02핑크', '03레드', '04오렌지', '05옐로우', '06딥베이지', '07오트밀', '08아미그린', '09헌터그린', '10해피그린', '11라임그린', '12터콰이즈', '13민트', '14아쿠아블루', '15아이리스블루', '16마리나블루', '17로얄블루', '18네이비', '19퍼플', '20바이올렛', '21버건디', '22미드헤더그레이', '23라이트헤더그레이', '24화이트', '25블랙', '26콜그레이'] ['soft pink', 'pink', 'red', 'orange', 'yellow', 'deep beige', 'oatmeal', 'army green', 'hunter green', 'happy green', 'lime green', 'turquoise', 'mint', 'aqua blue', 'iris blue', 'marina blue', 'royal blue', 'navy', 'purple', 'violet', 'burgundy', 'mid gray', 'light gray', 'white', 'black', 'col gray']\n",
      "4040225 ['브라운', '블랙', '스톤베이지', '올리브', '화이트'] ['brown', 'black', 'stone beige', 'olive', 'white']\n",
      "4291283 ['IV', 'LK', 'LL'] ['iv', 'lk', 'll']\n",
      "1871984 ['01블랙', '02버건디', '03피콕그린', '04에메랄드', '05씨블루', '06딥블루', '07네이비', '08더스티블루', '10로얄블루', '09라이트블루', '11핫핑크', '13핑크', '12페일핑크', '14헌터그린', '15민트', '16카키', '17민트그레이', '17라이트그레이', '18화이트', '19미드헤더그레이', '23오렌지', '20베이지', '24레드', '21오트밀', '22옐로우'] ['black', 'burgundy', 'peacock green', 'emerald', 'sky blue', 'deep blue', 'navy', 'dusty blue', 'royal blue', 'light blue', 'hot pink', 'pink', 'pale pink', 'hunter green', 'mint', 'khaki', 'mint gray', 'light gray', 'white', 'mid gray', 'orange', 'beige', 'red', 'oatmeal', 'yellow']\n",
      "4898835 ['BE', 'BR', 'NA'] ['be', 'br', 'na']\n",
      "2888628 ['블랙', '그레이'] ['black', 'gray']\n",
      "3076224 ['NAVY', 'GREEN', 'ORANGE'] ['navy', 'green', 'orange']\n",
      "4252385 ['차콜', '네이비'] ['charcoal', 'navy']\n",
      "4416081 ['Black', 'Gray', 'Sky blue'] ['black', 'gray', 'sky blue']\n",
      "4927171 ['01블랙', '02코스믹', '03블랙+초크STR', '04초크', '05세이블', '06그린'] ['black', 'cosmic', 'black + chalk', 'chalk', 'sable', 'green']\n",
      "4505537 ['M', 'L'] ['m', 'l']\n",
      "4060643 ['플레인 카라 하프 니트_아이보리', '플레인 카라 하프 니트_베이지', '플레인 카라 하프 니트_블랙', '플레인 카라 하프 니트_스카이블루', '플레인 카라 하프 니트_네이비', '코튼 모달 워셔블 크루 넥 케이블 니트_아이보리', '코튼 모달 워셔블 크루 넥 케이블 니트_베이지', '코튼 모달 워셔블 크루 넥 케이블 니트_블랙', '코튼 모달 워셔블 크루 넥 케이블 니트_그레이', '코튼 모달 워셔블 크루 넥 케이블 니트_스카이블루', '코튼 모달 워셔블 크루 넥 케이블 니트_네이비', '코튼 모달 워셔블 버튼 카라 케이블 하프 니트_아이보리', '코튼 모달 워셔블 버튼 카라 케이블 하프 니트_베이지', '코튼 모달 워셔블 버튼 카라 케이블 하프 니트_블랙', '코튼 모달 워셔블 버튼 카라 케이블 하프 니트_그레이', '코튼 모달 워셔블 버튼 카라 케이블 하프 니트_스카이블루', '코튼 모달 워셔블 버튼 카라 케이블 하프 니트_네이비'] ['plain collar half knit', 'plain collar half knit', 'plain collar half knit', 'plain collar half knit', 'plain collar half knit', 'cotton modal washable crew neck cable knit', 'cotton modal washable crew neck cable knit', 'cotton modal washable crew neck cable knit', 'cotton modal washable crew neck cable knit', 'cotton modal washable crew neck cable knit', 'cotton modal washable crew neck cable knit', 'cotton modal washable button collar cable half knit', 'cotton modal washable button collar cable half knit', 'cotton modal washable button collar cable half knit', 'cotton modal washable button collar cable half knit', 'cotton modal washable button collar cable half knit', 'cotton modal washable button collar cable half knit']\n",
      "4899057 ['선택1.다크네이비(케이블카라)', '선택1.라이트베이지(케이블카라)', '선택1.오렌지(케이블카라)', '선택1.스카이블루(케이블카라)', '선택2.다크네이비(케이블라운드)', '선택2.다크브라운(케이블라운드)', '선택2.라이트베이지(케이블라운드)', '선택2.라이트카키(케이블라운드)', '선택2.스카이블루(케이블라운드)', '선택3.베이지(베이직카라)', '선택3.블랙(베이직카라)', '선택3.카키(베이직카라)', '선택3.라이트블루(베이직카라)', '선택4.다크네이비(스트라이프)', '선택4.아이보리(스트라이프)'] ['dark navy (cable collar)', 'light beige (cable collar)', 'orange (cable collar)', 'sky blue (cable collar)', 'dark navy (cable round)', 'dark brown (cable round)', 'light beige (cable round)', 'light khaki (cable round)', 'sky blue (cable round)', 'beige (basic collar)', 'black (basic collar)', 'khaki (basic collar)', 'light blue (basic collar)', 'dark navy (stripe)', 'ivory (stripe)']\n",
      "4482587 ['블랙', '차콜', '베이지'] ['black', 'charcoal', 'beige']\n",
      "4927169 ['01다크네이비', '02스카이블루', '03초크', '04듄', '05소프트옐로우', '06필드', '07핑크', '08코랄'] ['dark navy', 'sky blue', 'chalk', 'dune', 'soft yellow', 'field', 'pink', 'coral']\n",
      "4628723 ['095', '100', '105', '110'] ['095', '100', '105', '110']\n",
      "2542419 ['black', 'melange', 'oatmeal'] ['black', 'melange', 'oatmeal']\n",
      "4074761 ['블랙', '화이트', '메란지'] ['black', 'white', 'melange']\n",
      "552760 ['블랙', '차콜', '화이트'] ['black', 'charcoal', 'white']\n"
     ]
    }
   ],
   "source": [
    "for i in range(len(result)):\n",
    "    product_id = result[i][\"product_id\"]\n",
    "    origin = colors[i][\"colors\"]\n",
    "    output = result[i][\"colors_transformed\"]\n",
    "    print(product_id , origin , output)\n"
   ]
  },
  {
   "cell_type": "code",
   "execution_count": 5,
   "metadata": {},
   "outputs": [
    {
     "data": {
      "text/plain": [
       "(30, 30)"
      ]
     },
     "execution_count": 5,
     "metadata": {},
     "output_type": "execute_result"
    }
   ],
   "source": [
    "from langchain_core.tools import tool\n",
    "@tool\n",
    "def add(a:int , b:int):\n",
    "    '''add a and b and then return a+b'''\n",
    "    return a+b\n",
    "d = {\"a\":10,\"b\":20}\n",
    "add.run(d) , add.invoke(d) "
   ]
  },
  {
   "cell_type": "code",
   "execution_count": 7,
   "metadata": {},
   "outputs": [],
   "source": [
    "prompt = ChatPromptTemplate.from_messages(\n",
    "    [\n",
    "        (\"system\", \"You are a helpful assistant\"),\n",
    "        MessagesPlaceholder(variable_name=\"messages\"),\n",
    "        (\"human\", \"{input}\")\n",
    "    ]\n",
    ")\n"
   ]
  },
  {
   "cell_type": "code",
   "execution_count": 20,
   "metadata": {},
   "outputs": [],
   "source": [
    "memory = ConversationBufferMemory(\n",
    "    return_messages = True , \n",
    "    memory_key = \"chat_histroy\"\n",
    "    \n",
    ")"
   ]
  },
  {
   "cell_type": "code",
   "execution_count": 31,
   "metadata": {},
   "outputs": [],
   "source": [
    "runnable = RunnablePassthrough.assign(\n",
    "    messages = RunnableLambda(memory.load_memory_variables) | itemgetter(\"chat_histroy\")\n",
    ")"
   ]
  },
  {
   "cell_type": "code",
   "execution_count": 32,
   "metadata": {},
   "outputs": [
    {
     "data": {
      "text/plain": [
       "{'test': 'abc', 'messages': []}"
      ]
     },
     "execution_count": 32,
     "metadata": {},
     "output_type": "execute_result"
    }
   ],
   "source": [
    "runnable.invoke({\"test\" : \"abc\"})"
   ]
  },
  {
   "cell_type": "code",
   "execution_count": 35,
   "metadata": {},
   "outputs": [],
   "source": [
    "chain = runnable | prompt\n",
    "res = chain.invoke({\"input\" : \"안녕\"})"
   ]
  },
  {
   "cell_type": "code",
   "execution_count": 47,
   "metadata": {},
   "outputs": [
    {
     "data": {
      "text/plain": [
       "ChatPromptValue(messages=[SystemMessage(content='You are a helpful assistant', additional_kwargs={}, response_metadata={}), HumanMessage(content='안녕', additional_kwargs={}, response_metadata={})])"
      ]
     },
     "execution_count": 47,
     "metadata": {},
     "output_type": "execute_result"
    }
   ],
   "source": [
    "res"
   ]
  },
  {
   "cell_type": "code",
   "execution_count": 3,
   "metadata": {},
   "outputs": [],
   "source": [
    "import requests\n",
    "from langchain_community.embeddings import JinaEmbeddings\n",
    "from numpy import dot\n",
    "from numpy.linalg import norm\n",
    "from PIL import Image\n",
    "\n",
    "from dotenv import load_dotenv\n",
    "\n",
    "load_dotenv()\n",
    "\n",
    "\n",
    "multimodal_embeddings = JinaEmbeddings(\n",
    "    model_name=\"jina-clip-v1\",\n",
    ")\n",
    "\n"
   ]
  },
  {
   "cell_type": "code",
   "execution_count": null,
   "metadata": {},
   "outputs": [],
   "source": [
    "texts = [\"a dog\", \"a cat\" , \"This is a full-body studio shot of a cute Pembroke Welsh Corgi puppy, sitting with one eye winking and its tongue slightly out, against a clean white background. The puppy has a light brown and white coat.\", \"강아지의 정면 사진\"]\n",
    "images= [\"./dog.jpg\", \"./dog2.jpg\"]\n",
    "\n",
    "\n",
    "# 리스트 반환 List[List[float]]\n",
    "text_embeddings = multimodal_embeddings.embed_documents(texts)\n",
    "image_embedding = multimodal_embeddings.embed_images(images)\n",
    "\n"
   ]
  },
  {
   "cell_type": "code",
   "execution_count": 6,
   "metadata": {},
   "outputs": [
    {
     "data": {
      "text/plain": [
       "np.float64(1.0000001798071025)"
      ]
     },
     "execution_count": 6,
     "metadata": {},
     "output_type": "execute_result"
    }
   ],
   "source": [
    "import numpy as np\n",
    "# cosine_similarity1 = np.dot(image_embedding[0], text_embeddings[0]) / (\n",
    "#     np.linalg.norm(image_embedding[0]) * np.linalg.norm(text_embeddings[0])\n",
    "# )\n",
    "# cosine_similarity2 = np.dot(image_embedding[0], text_embeddings[1]) / (\n",
    "#     np.linalg.norm(image_embedding[0]) * np.linalg.norm(text_embeddings[1])\n",
    "# )\n",
    "\n",
    "# cosine_similarity3 = np.dot(image_embedding[0], text_embeddings[2]) / (\n",
    "#     np.linalg.norm(image_embedding[0]) * np.linalg.norm(text_embeddings[2])\n",
    "# )\n",
    "\n",
    "# cosine_similarity4 = np.dot(image_embedding[0], text_embeddings[3]) / (\n",
    "#     np.linalg.norm(image_embedding[0]) * np.linalg.norm(text_embeddings[3])\n",
    "# )\n",
    "np.dot(image_embedding[0] ,image_embedding[0])"
   ]
  },
  {
   "cell_type": "code",
   "execution_count": 23,
   "metadata": {},
   "outputs": [
    {
     "data": {
      "text/plain": [
       "(np.float64(0.17015653410642279),\n",
       " np.float64(0.057199674549987437),\n",
       " np.float64(0.3730112902897924),\n",
       " np.float64(0.075123804692477))"
      ]
     },
     "execution_count": 23,
     "metadata": {},
     "output_type": "execute_result"
    }
   ],
   "source": [
    "cosine_similarity1, cosine_similarity2 , cosine_similarity3 , cosine_similarity4 "
   ]
  },
  {
   "cell_type": "code",
   "execution_count": 26,
   "metadata": {},
   "outputs": [
    {
     "data": {
      "text/plain": [
       "np.float64(0.17015653806414158)"
      ]
     },
     "execution_count": 26,
     "metadata": {},
     "output_type": "execute_result"
    }
   ],
   "source": [
    "np.dot(image_embedding[0]  , text_embeddings[0])"
   ]
  }
 ],
 "metadata": {
  "kernelspec": {
   "display_name": "venv",
   "language": "python",
   "name": "python3"
  },
  "language_info": {
   "codemirror_mode": {
    "name": "ipython",
    "version": 3
   },
   "file_extension": ".py",
   "mimetype": "text/x-python",
   "name": "python",
   "nbconvert_exporter": "python",
   "pygments_lexer": "ipython3",
   "version": "3.12.3"
  }
 },
 "nbformat": 4,
 "nbformat_minor": 2
}
